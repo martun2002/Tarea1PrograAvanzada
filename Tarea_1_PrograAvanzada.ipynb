{
 "cells": [
  {
   "cell_type": "markdown",
   "metadata": {},
   "source": [
    "#  1. Preguntas Teoricas"
   ]
  },
  {
   "cell_type": "markdown",
   "metadata": {},
   "source": [
    "**a) ¿Qué es un paradigma de programación?** <br>\n",
    "Es un estilo o manera de organizar y estructurar la programación de un software. Es un conjunto de métodos y principios que guían cómo resolver problemas computacionales de manera eficiente y coherente. "
   ]
  },
  {
   "cell_type": "markdown",
   "metadata": {},
   "source": [
    "**b) ¿En qué se basa la programación orientada a objetos?** <br>\n",
    "Se basa en el uso de objetos y clases en lugar de usar funciones y lógica para modelar sistemas. Esto permite disminuir los errores y promover la reutilización de código."
   ]
  },
  {
   "cell_type": "markdown",
   "metadata": {},
   "source": [
    "**c) ¿Cuál es la diferencia entre recursividad e iteración, y cómo se relaciona esto con la notación big 𝑂?** <br>\n",
    "iteracion es cuando se repite una instruccion o procedimiento varias veces, en cambio recursion es cuando se llama una funcion se llama a si misma varias veces hasta resolver el problema. La diferencia es que la recursion necesita de un caso base, la iteracion no. Ahora, la iteracion tiende a tener notacion Big 0 lineal, en cambio la recursiva al llamarse repetidas veces puede tener una complejidad temporal exponencial."
   ]
  },
  {
   "cell_type": "markdown",
   "metadata": {},
   "source": [
    "**d) explicar la diferencia de rendimiento entre 𝑂(1) y 𝑂(𝑛)** <br>\n",
    "Tendremos que la 𝑂(1) tendra un tiempo constante,es decir no depende de la entrada y es el algoritmo mas rapido, en cambio el 𝑂(n) crece directamente proporcional (lineal) con el tamaño de sus entradas, por lo que si depende de estas."
   ]
  },
  {
   "cell_type": "markdown",
   "metadata": {},
   "source": [
    "**e)¿Cómo se calcula el orden en un programa que funciona por etapas?** <br>\n",
    "Hay que calcular el orden de cada etapa del programa y el orden mas grande domina a todos, asi que este sera el orden del programa. El orden ascendente de comlejidades temporales es el siguiente: O(1) < O(log(n)) < O(n) < O(nlog(n)) < O(n2) < O(2n) < O(n!)\n"
   ]
  },
  {
   "cell_type": "markdown",
   "metadata": {},
   "source": [
    "**f)¿Cómo se puede determinar la complejidad temporal de un algoritmo recursivo?** <br>\n",
    "Por cada vez que se llame la funcion a si misma, la base de la potencia aumenta, es decir si se llama dos veces su complejidad temporal es O (2 ^ N). si llama tres veces, entonces su complejidad temporal es O(3 ^ N) y así."
   ]
  },
  {
   "cell_type": "markdown",
   "metadata": {},
   "source": [
    "#  2. Caminos en una PCB\n"
   ]
  },
  {
   "cell_type": "code",
   "execution_count": 1,
   "metadata": {},
   "outputs": [],
   "source": [
    "\n",
    "class CaminosPCB:\n",
    "    def __init__(self, N, M):\n",
    "        self.N = N\n",
    "        self.M = M\n",
    "        PCB = [[0] * self.M for _ in range(self.N)]\n",
    "        PCB[0][0] = 1\n",
    "        self.grilla= PCB\n",
    "        self.caminos = 0 \n",
    "\n",
    "    def contarcaminos1(self,grilla):\n",
    "        self.caminos = 0\n",
    "        def buscar_caminos(grilla, i, j):\n",
    "            if i == self.N-1 and j == self.M-1:\n",
    "                self.caminos += 1\n",
    "                return\n",
    "\n",
    "            if i + 1 < self.N:\n",
    "                nueva_grilla = [fila[:] for fila in grilla]\n",
    "                nueva_grilla[i][j] = 0  \n",
    "                nueva_grilla[i + 1][j] = 1 \n",
    "                buscar_caminos(nueva_grilla, i + 1, j)\n",
    "\n",
    "            if j + 1 < self.M:\n",
    "                nueva_grilla = [fila[:] for fila in grilla]\n",
    "                nueva_grilla[i][j] = 0   \n",
    "                nueva_grilla[i][j + 1] = 1  \n",
    "                buscar_caminos(nueva_grilla, i, j + 1)\n",
    "\n",
    "        buscar_caminos(grilla, 0, 0)\n",
    "        return self.caminos\n",
    "    \n",
    "    def contarcaminos2(self):\n",
    "        grilla = self.grilla\n",
    "        for i in range(0,self.N):  \n",
    "            grilla[i][0] = 1\n",
    "        for j in range(0,self.M):\n",
    "            grilla[0][j] = 1\n",
    "        for i in range(1,self.N):\n",
    "            for j in range(1,self.M):\n",
    "                grilla[i][j] = grilla[i-1][j] + grilla[i][j-1]\n",
    "        return grilla[self.N-1][self.M-1]\n",
    "\n"
   ]
  },
  {
   "cell_type": "code",
   "execution_count": 2,
   "metadata": {},
   "outputs": [
    {
     "data": {
      "text/plain": [
       "10"
      ]
     },
     "execution_count": 2,
     "metadata": {},
     "output_type": "execute_result"
    }
   ],
   "source": [
    "pcb = CaminosPCB(3, 4) \n",
    "pcb.contarcaminos1(pcb.grilla) \n",
    "pcb.contarcaminos2()   "
   ]
  },
  {
   "cell_type": "markdown",
   "metadata": {},
   "source": [
    "#  3. Caminos en una PCB 2"
   ]
  },
  {
   "cell_type": "code",
   "execution_count": 3,
   "metadata": {},
   "outputs": [
    {
     "name": "stdout",
     "output_type": "stream",
     "text": [
      "Requirement already satisfied: matplotlib in c:\\users\\martin-pc\\anaconda3\\envs\\el4203\\lib\\site-packages (3.9.2)\n",
      "Requirement already satisfied: contourpy>=1.0.1 in c:\\users\\martin-pc\\anaconda3\\envs\\el4203\\lib\\site-packages (from matplotlib) (1.3.0)\n",
      "Requirement already satisfied: cycler>=0.10 in c:\\users\\martin-pc\\anaconda3\\envs\\el4203\\lib\\site-packages (from matplotlib) (0.12.1)\n",
      "Requirement already satisfied: fonttools>=4.22.0 in c:\\users\\martin-pc\\anaconda3\\envs\\el4203\\lib\\site-packages (from matplotlib) (4.53.1)\n",
      "Requirement already satisfied: kiwisolver>=1.3.1 in c:\\users\\martin-pc\\anaconda3\\envs\\el4203\\lib\\site-packages (from matplotlib) (1.4.7)\n",
      "Requirement already satisfied: numpy>=1.23 in c:\\users\\martin-pc\\anaconda3\\envs\\el4203\\lib\\site-packages (from matplotlib) (2.1.1)\n",
      "Requirement already satisfied: packaging>=20.0 in c:\\users\\martin-pc\\anaconda3\\envs\\el4203\\lib\\site-packages (from matplotlib) (24.1)\n",
      "Requirement already satisfied: pillow>=8 in c:\\users\\martin-pc\\anaconda3\\envs\\el4203\\lib\\site-packages (from matplotlib) (10.4.0)\n",
      "Requirement already satisfied: pyparsing>=2.3.1 in c:\\users\\martin-pc\\anaconda3\\envs\\el4203\\lib\\site-packages (from matplotlib) (3.1.4)\n",
      "Requirement already satisfied: python-dateutil>=2.7 in c:\\users\\martin-pc\\anaconda3\\envs\\el4203\\lib\\site-packages (from matplotlib) (2.9.0.post0)\n",
      "Requirement already satisfied: six>=1.5 in c:\\users\\martin-pc\\anaconda3\\envs\\el4203\\lib\\site-packages (from python-dateutil>=2.7->matplotlib) (1.16.0)\n"
     ]
    }
   ],
   "source": [
    "import time\n",
    "!pip install matplotlib\n",
    "\n",
    "def medir_tiempo(func):\n",
    "    def nueva_funcion(*args, **kwargs):\n",
    "        t0 = time.time()  \n",
    "        resultado = func(*args, **kwargs)\n",
    "        tf = time.time() \n",
    "        deltat= tf - t0\n",
    "        print(f\"Tiempo de ejecución fue : {deltat:.22f} segundos\")\n",
    "        return resultado\n",
    "    return nueva_funcion"
   ]
  },
  {
   "cell_type": "code",
   "execution_count": 4,
   "metadata": {},
   "outputs": [],
   "source": [
    "class CaminosPCB2:\n",
    "    def __init__(self, N, M):\n",
    "        self.N = N\n",
    "        self.M = M\n",
    "        PCB = [[0] * self.M for _ in range(self.N)]\n",
    "        PCB[0][0] = 1\n",
    "        self.grilla= PCB\n",
    "        self.caminos = 0 \n",
    "\n",
    "    def contarcaminos1(self,grilla):\n",
    "        self.caminos = 0\n",
    "        def buscar_caminos(grilla, i, j):\n",
    "            if i == self.N-1 and j == self.M-1:\n",
    "                self.caminos += 1\n",
    "                return\n",
    "\n",
    "            if i + 1 < self.N:\n",
    "                nueva_grilla = [fila[:] for fila in grilla]\n",
    "                nueva_grilla[i][j] = 0  \n",
    "                nueva_grilla[i + 1][j] = 1 \n",
    "                buscar_caminos(nueva_grilla, i + 1, j)\n",
    "\n",
    "            if j + 1 < self.M:\n",
    "                nueva_grilla = [fila[:] for fila in grilla]\n",
    "                nueva_grilla[i][j] = 0   \n",
    "                nueva_grilla[i][j + 1] = 1  \n",
    "                buscar_caminos(nueva_grilla, i, j + 1)\n",
    "\n",
    "        buscar_caminos(grilla, 0, 0)\n",
    "        return self.caminos\n",
    "    \n",
    "    def contarcaminos2(self):\n",
    "        grilla = self.grilla\n",
    "        for i in range(0,self.N):  \n",
    "            grilla[i][0] = 1\n",
    "        for j in range(0,self.M):\n",
    "            grilla[0][j] = 1\n",
    "        for i in range(1,self.N):\n",
    "            for j in range(1,self.M):\n",
    "                grilla[i][j] = grilla[i-1][j] + grilla[i][j-1]\n",
    "        return grilla[self.N-1][self.M-1]\n",
    "\n",
    "\n",
    "    @medir_tiempo\n",
    "    def contarcaminos(self,modo):\n",
    "        if modo == 1:\n",
    "            a = self.contarcaminos1(pcb.grilla)\n",
    "            return a\n",
    "        if modo == 2:\n",
    "            b = self.contarcaminos2()\n",
    "            return b\n",
    "        else:\n",
    "            return \"error\""
   ]
  },
  {
   "cell_type": "code",
   "execution_count": 5,
   "metadata": {},
   "outputs": [
    {
     "name": "stdout",
     "output_type": "stream",
     "text": [
      "Tiempo de ejecución fue : 0.9760291576385498046875 segundos\n"
     ]
    },
    {
     "data": {
      "text/plain": [
       "184756"
      ]
     },
     "execution_count": 5,
     "metadata": {},
     "output_type": "execute_result"
    }
   ],
   "source": [
    "pcb = CaminosPCB2(11, 11) \n",
    "pcb.contarcaminos(1) \n",
    " "
   ]
  },
  {
   "cell_type": "code",
   "execution_count": 6,
   "metadata": {},
   "outputs": [
    {
     "data": {
      "text/plain": [
       "<matplotlib.legend.Legend at 0x20df4893ef0>"
      ]
     },
     "execution_count": 6,
     "metadata": {},
     "output_type": "execute_result"
    },
    {
     "data": {
      "image/png": "[encoded data removed]",
      "text/plain": [
       "<Figure size 640x480 with 1 Axes>"
      ]
     },
     "metadata": {},
     "output_type": "display_data"
    }
   ],
   "source": [
    "from time import perf_counter\n",
    "\n",
    "import matplotlib.pyplot as plt\n",
    "\n",
    "\n",
    "t_contarcaminos1 = []\n",
    "t_contarcaminos2 = []\n",
    "x = []\n",
    "for i in range(1,14):\n",
    "    x.append(i)\n",
    "\n",
    "for n in range(1,14):\n",
    "    pcb = CaminosPCB2(n, n)\n",
    "    \n",
    "    tiempo_inicio = perf_counter()\n",
    "    pcb.contarcaminos1(pcb.grilla)\n",
    "    tiempo_total = perf_counter() - tiempo_inicio\n",
    "    t_contarcaminos1.append(tiempo_total)\n",
    "\n",
    "    tiempo_inicio = perf_counter()\n",
    "    pcb.contarcaminos2()\n",
    "    tiempo_total = perf_counter() - tiempo_inicio\n",
    "    t_contarcaminos2.append(tiempo_total)\n",
    "\n",
    "\n",
    "# Generación de gráficos\n",
    "plt.figure()\n",
    "plt.plot(x, t_contarcaminos1, label='contarcaminos1')\n",
    "plt.plot(x, t_contarcaminos2, label='contarcaminos2')\n",
    "plt.xlabel('Tamaño de la PCB (N = M)')\n",
    "plt.ylabel('Tiempo de ejecución (segundos)')\n",
    "plt.title('Comparación de tiempos de ejecución de métodos contarcaminos')\n",
    "plt.legend()\n",
    "\n"
   ]
  },
  {
   "cell_type": "markdown",
   "metadata": {},
   "source": [
    "Como se puede ver, despues de N=M=10, el metodo contarcaminos1 es empieza a demorar exponencialmente mas que el el metodo contarcaminos2, el cual se mantiene constante para todo valor N=M (por lo menos hasta la iteracion 15)"
   ]
  }
 ],
 "metadata": {
  "kernelspec": {
   "display_name": "el4203",
   "language": "python",
   "name": "python3"
  },
  "language_info": {
   "codemirror_mode": {
    "name": "ipython",
    "version": 3
   },
   "file_extension": ".py",
   "mimetype": "text/x-python",
   "name": "python",
   "nbconvert_exporter": "python",
   "pygments_lexer": "ipython3",
   "version": "3.12.4"
  }
 },
 "nbformat": 4,
 "nbformat_minor": 2
}
